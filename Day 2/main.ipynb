{
 "cells": [
  {
   "cell_type": "markdown",
   "metadata": {},
   "source": [
    "# 🎄 Day 2 🎄"
   ]
  },
  {
   "cell_type": "markdown",
   "metadata": {},
   "source": [
    "## ❄️ EXO 1"
   ]
  },
  {
   "cell_type": "markdown",
   "metadata": {},
   "source": [
    "### 🎅🏼 Solver"
   ]
  },
  {
   "cell_type": "code",
   "execution_count": 16,
   "metadata": {},
   "outputs": [],
   "source": [
    "a = {\n",
    "    \"A X\": 4,\n",
    "    \"A Y\": 8,\n",
    "    \"A Z\": 3,\n",
    "    \"B X\": 1,\n",
    "    \"B Y\": 5,\n",
    "    \"B Z\": 9,\n",
    "    \"C X\": 7,\n",
    "    \"C Y\": 2,\n",
    "    \"C Z\": 6\n",
    "}\n",
    "\n",
    "def resolve_1(filename: str):\n",
    "    with open(filename) as file:\n",
    "        return sum([a[line.replace(\"\\n\", '')] for line in file.readlines()])\n"
   ]
  },
  {
   "cell_type": "markdown",
   "metadata": {},
   "source": [
    "### 🧪 Test sample"
   ]
  },
  {
   "cell_type": "code",
   "execution_count": 17,
   "metadata": {},
   "outputs": [
    {
     "name": "stdout",
     "output_type": "stream",
     "text": [
      "15\n"
     ]
    }
   ],
   "source": [
    "print(resolve_1(\"test.txt\"))"
   ]
  },
  {
   "cell_type": "markdown",
   "metadata": {},
   "source": [
    "### 🧠 Real sample"
   ]
  },
  {
   "cell_type": "code",
   "execution_count": 18,
   "metadata": {},
   "outputs": [
    {
     "name": "stdout",
     "output_type": "stream",
     "text": [
      "13924\n"
     ]
    }
   ],
   "source": [
    "print(resolve_1(\"input.txt\"))"
   ]
  },
  {
   "cell_type": "markdown",
   "metadata": {},
   "source": [
    "## ❄️ EXO 2"
   ]
  },
  {
   "cell_type": "markdown",
   "metadata": {},
   "source": [
    "### 🧑🏼‍🎄 Solver"
   ]
  },
  {
   "cell_type": "code",
   "execution_count": 24,
   "metadata": {},
   "outputs": [],
   "source": [
    "b = {\n",
    "    \"X\": {\n",
    "        \"A\": 3,\n",
    "        \"B\": 1,\n",
    "        \"C\": 2\n",
    "    },\n",
    "    \"Y\": {\n",
    "        \"A\": 4,\n",
    "        \"B\": 5,\n",
    "        \"C\": 6\n",
    "    },\n",
    "    \"Z\": {\n",
    "        \"A\": 8,\n",
    "        \"B\": 9,\n",
    "        \"C\": 7\n",
    "    }\n",
    "}\n",
    "\n",
    "def resolve_2(filename: str):\n",
    "    with open(filename) as file:\n",
    "        return sum(map(lambda x: b[x[1]][x[0]],[line.replace(\"\\n\", \"\").split(\" \") for line in file.readlines()]))"
   ]
  },
  {
   "cell_type": "markdown",
   "metadata": {},
   "source": [
    "### 🧪 Test sample"
   ]
  },
  {
   "cell_type": "code",
   "execution_count": 25,
   "metadata": {},
   "outputs": [
    {
     "name": "stdout",
     "output_type": "stream",
     "text": [
      "12\n"
     ]
    }
   ],
   "source": [
    "print(resolve_2(\"test.txt\"))"
   ]
  },
  {
   "cell_type": "markdown",
   "metadata": {},
   "source": [
    "### 🧠 Real sample"
   ]
  },
  {
   "cell_type": "code",
   "execution_count": 26,
   "metadata": {},
   "outputs": [
    {
     "name": "stdout",
     "output_type": "stream",
     "text": [
      "13448\n"
     ]
    }
   ],
   "source": [
    "print(resolve_2(\"input.txt\"))"
   ]
  }
 ],
 "metadata": {
  "kernelspec": {
   "display_name": "Python 3.9.12 ('base')",
   "language": "python",
   "name": "python3"
  },
  "language_info": {
   "codemirror_mode": {
    "name": "ipython",
    "version": 3
   },
   "file_extension": ".py",
   "mimetype": "text/x-python",
   "name": "python",
   "nbconvert_exporter": "python",
   "pygments_lexer": "ipython3",
   "version": "3.9.12"
  },
  "orig_nbformat": 4,
  "vscode": {
   "interpreter": {
    "hash": "e8854f263f48b47bf2c9d04a348d471a3453f7cd741e7aae1cf23fa53605996b"
   }
  }
 },
 "nbformat": 4,
 "nbformat_minor": 2
}
