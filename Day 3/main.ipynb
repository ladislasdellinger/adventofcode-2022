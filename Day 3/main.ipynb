{
 "cells": [
  {
   "cell_type": "markdown",
   "metadata": {},
   "source": [
    "# 🎄 Day 3 🎄"
   ]
  },
  {
   "cell_type": "markdown",
   "metadata": {},
   "source": [
    "## ❄️ EXO 1"
   ]
  },
  {
   "cell_type": "markdown",
   "metadata": {},
   "source": [
    "### 🎅🏼 Solver"
   ]
  },
  {
   "cell_type": "code",
   "execution_count": 201,
   "metadata": {},
   "outputs": [],
   "source": [
    "alphabet = list('abcdefghijklmnopqrstuvwxyz')\n",
    "alphabetMaj = list('ABCDEFGHIJKLMNOPQRSTUVWXYZ')\n",
    "\n",
    "def resolve_1(filename: str):\n",
    "    with open(filename) as file:\n",
    "        inputs = [list(line.replace(\"\\n\", \"\")) for line in file.readlines()]\n",
    "        sum = 0\n",
    "        for input in inputs:\n",
    "            rucksack1 = set(input[0:len(input) // 2])\n",
    "            rucksack2 = set(input[len(input) // 2:])\n",
    "            letter = rucksack1.intersection(rucksack2).pop()\n",
    "            if letter:\n",
    "                if letter in alphabet:\n",
    "                    sum += alphabet.index(letter) + 1\n",
    "                elif letter in alphabetMaj:\n",
    "                    sum += (alphabetMaj.index(letter) + 27) \n",
    "\n",
    "    return sum\n",
    "            \n"
   ]
  },
  {
   "cell_type": "markdown",
   "metadata": {},
   "source": [
    "### 🧪 Test sample"
   ]
  },
  {
   "cell_type": "code",
   "execution_count": 202,
   "metadata": {},
   "outputs": [
    {
     "name": "stdout",
     "output_type": "stream",
     "text": [
      "157\n"
     ]
    }
   ],
   "source": [
    "print(resolve_1(\"test.txt\"))"
   ]
  },
  {
   "cell_type": "markdown",
   "metadata": {},
   "source": [
    "### 🧠 Real sample"
   ]
  },
  {
   "cell_type": "code",
   "execution_count": 203,
   "metadata": {},
   "outputs": [
    {
     "name": "stdout",
     "output_type": "stream",
     "text": [
      "8515\n"
     ]
    }
   ],
   "source": [
    "print(resolve_1(\"input.txt\"))"
   ]
  },
  {
   "cell_type": "markdown",
   "metadata": {},
   "source": [
    "## ❄️ EXO 2"
   ]
  },
  {
   "cell_type": "markdown",
   "metadata": {},
   "source": [
    "### 🧑🏼‍🎄 Solver"
   ]
  },
  {
   "cell_type": "code",
   "execution_count": 204,
   "metadata": {},
   "outputs": [],
   "source": [
    "def resolve_2(filename: str):\n",
    "    with open(filename) as file:\n",
    "        inputs = [list(line.replace(\"\\n\", \"\")) for line in file.readlines()]\n",
    "        i = 0\n",
    "        sum = 0\n",
    "        while i < len(inputs):\n",
    "            badge = set(inputs[i]).intersection(set(inputs[i+1])).intersection(set(inputs[i+2]))\n",
    "            letter = badge.pop()\n",
    "            if(letter):\n",
    "                if letter in alphabet:\n",
    "                    sum += alphabet.index(letter) + 1\n",
    "                elif letter in alphabetMaj:\n",
    "                    sum += (alphabetMaj.index(letter) + 27)\n",
    "            i += 3\n",
    "        return sum"
   ]
  },
  {
   "cell_type": "markdown",
   "metadata": {},
   "source": [
    "### 🧪 Test sample"
   ]
  },
  {
   "cell_type": "code",
   "execution_count": 205,
   "metadata": {},
   "outputs": [
    {
     "name": "stdout",
     "output_type": "stream",
     "text": [
      "70\n"
     ]
    }
   ],
   "source": [
    "print(resolve_2(\"test.txt\"))"
   ]
  },
  {
   "cell_type": "markdown",
   "metadata": {},
   "source": [
    "### 🧠 Real sample"
   ]
  },
  {
   "cell_type": "code",
   "execution_count": 206,
   "metadata": {},
   "outputs": [
    {
     "name": "stdout",
     "output_type": "stream",
     "text": [
      "2434\n"
     ]
    }
   ],
   "source": [
    "print(resolve_2(\"input.txt\"))"
   ]
  }
 ],
 "metadata": {
  "kernelspec": {
   "display_name": "Python 3.9.12 ('base')",
   "language": "python",
   "name": "python3"
  },
  "language_info": {
   "codemirror_mode": {
    "name": "ipython",
    "version": 3
   },
   "file_extension": ".py",
   "mimetype": "text/x-python",
   "name": "python",
   "nbconvert_exporter": "python",
   "pygments_lexer": "ipython3",
   "version": "3.9.12"
  },
  "orig_nbformat": 4,
  "vscode": {
   "interpreter": {
    "hash": "e8854f263f48b47bf2c9d04a348d471a3453f7cd741e7aae1cf23fa53605996b"
   }
  }
 },
 "nbformat": 4,
 "nbformat_minor": 2
}
