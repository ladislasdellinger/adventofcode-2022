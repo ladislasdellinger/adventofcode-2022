{
 "cells": [
  {
   "cell_type": "code",
   "execution_count": 332,
   "metadata": {},
   "outputs": [],
   "source": [
    "import re"
   ]
  },
  {
   "cell_type": "markdown",
   "metadata": {},
   "source": [
    "# 🎄 Day 5 🎄"
   ]
  },
  {
   "cell_type": "markdown",
   "metadata": {},
   "source": [
    "## ❄️ EXO 1"
   ]
  },
  {
   "cell_type": "markdown",
   "metadata": {},
   "source": [
    "### 🎅🏼 Solver"
   ]
  },
  {
   "cell_type": "code",
   "execution_count": 333,
   "metadata": {},
   "outputs": [],
   "source": [
    "def resolve_1(filename: str):\n",
    "    with open(filename) as file:\n",
    "        fileString = file.read()\n",
    "        unparsedStacked = fileString.split(\"\\n\\n\")[0].split(\"\\n\")[:-1]\n",
    "        stackNumber = len(re.findall(r\"\\d\", fileString.split(\"\\n\\n\")[0].split(\"\\n\")[-1]))\n",
    "        moves =  [re.findall(r\"\\d+\", line) for line in fileString.split(\"\\n\\n\")[1].split(\"\\n\")]\n",
    "        stacks = [[] for i in range(stackNumber)]\n",
    "        for line in unparsedStacked:\n",
    "            matches = re.findall(r\"(\\[[A-Z]\\]|\\s\\s\\s\\s)\",line)\n",
    "            for index, match in enumerate(matches):\n",
    "                crate = re.findall(r\"\\[[A-Z]\\]\", match)\n",
    "                if len(crate) != 0:\n",
    "                    stacks[index].insert(0, crate[0][1])\n",
    "        for move in moves:\n",
    "            for i in range(int(move[0])):\n",
    "                el = stacks[int(move[1]) - 1].pop()\n",
    "                print(i)\n",
    "                stacks[int(move[2]) - 1].append(el)\n",
    "        return ''.join([stacks[i].pop() for i in range(stackNumber)])\n",
    "            "
   ]
  },
  {
   "cell_type": "markdown",
   "metadata": {},
   "source": [
    "### 🧪 Test sample"
   ]
  },
  {
   "cell_type": "code",
   "execution_count": 334,
   "metadata": {},
   "outputs": [
    {
     "name": "stdout",
     "output_type": "stream",
     "text": [
      "CMZ\n"
     ]
    }
   ],
   "source": [
    "print(resolve_1(\"test.txt\"))"
   ]
  },
  {
   "cell_type": "markdown",
   "metadata": {},
   "source": [
    "### 🧠 Real sample"
   ]
  },
  {
   "cell_type": "code",
   "execution_count": 335,
   "metadata": {},
   "outputs": [
    {
     "name": "stdout",
     "output_type": "stream",
     "text": [
      "SHQWSRBDL\n"
     ]
    }
   ],
   "source": [
    "print(resolve_1(\"input.txt\"))"
   ]
  },
  {
   "cell_type": "markdown",
   "metadata": {},
   "source": [
    "## ❄️ EXO 2"
   ]
  },
  {
   "cell_type": "markdown",
   "metadata": {},
   "source": [
    "### 🧑🏼‍🎄 Solver"
   ]
  },
  {
   "cell_type": "code",
   "execution_count": 336,
   "metadata": {},
   "outputs": [],
   "source": [
    "def resolve_2(filename: str):\n",
    "    with open(filename) as file:\n",
    "        fileString = file.read()\n",
    "        unparsedStacked = fileString.split(\"\\n\\n\")[0].split(\"\\n\")[:-1]\n",
    "        stackNumber = len(re.findall(r\"\\d\", fileString.split(\"\\n\\n\")[0].split(\"\\n\")[-1]))\n",
    "        moves =  [re.findall(r\"\\d+\", line) for line in fileString.split(\"\\n\\n\")[1].split(\"\\n\")]\n",
    "        stacks = [[] for i in range(stackNumber)]\n",
    "        for line in unparsedStacked:\n",
    "            matches = re.findall(r\"(\\[[A-Z]\\]|\\s\\s\\s\\s)\",line)\n",
    "            for index, match in enumerate(matches):\n",
    "                crate = re.findall(r\"\\[[A-Z]\\]\", match)\n",
    "                if len(crate) != 0:\n",
    "                    stacks[index].insert(0, crate[0][1])\n",
    "        for move in moves:\n",
    "            for i in range(int(move[0])):\n",
    "                el = stacks[int(move[1]) - 1].pop()\n",
    "                stacks[int(move[2]) - 1].insert(len(stacks[int(move[2]) - 1]) - i, el)\n",
    "        return ''.join([stacks[i].pop() for i in range(stackNumber)])\n",
    "            "
   ]
  },
  {
   "cell_type": "markdown",
   "metadata": {},
   "source": [
    "### 🧪 Test sample"
   ]
  },
  {
   "cell_type": "code",
   "execution_count": 337,
   "metadata": {},
   "outputs": [
    {
     "name": "stdout",
     "output_type": "stream",
     "text": [
      "MCD\n"
     ]
    }
   ],
   "source": [
    "print(resolve_2(\"test.txt\"))"
   ]
  },
  {
   "cell_type": "markdown",
   "metadata": {},
   "source": [
    "### 🧠 Real sample"
   ]
  },
  {
   "cell_type": "code",
   "execution_count": 338,
   "metadata": {},
   "outputs": [
    {
     "name": "stdout",
     "output_type": "stream",
     "text": [
      "CDTQZHBRS\n"
     ]
    }
   ],
   "source": [
    "print(resolve_2(\"input.txt\"))"
   ]
  }
 ],
 "metadata": {
  "kernelspec": {
   "display_name": "Python 3.9.12 ('base')",
   "language": "python",
   "name": "python3"
  },
  "language_info": {
   "codemirror_mode": {
    "name": "ipython",
    "version": 3
   },
   "file_extension": ".py",
   "mimetype": "text/x-python",
   "name": "python",
   "nbconvert_exporter": "python",
   "pygments_lexer": "ipython3",
   "version": "3.9.12"
  },
  "orig_nbformat": 4,
  "vscode": {
   "interpreter": {
    "hash": "e8854f263f48b47bf2c9d04a348d471a3453f7cd741e7aae1cf23fa53605996b"
   }
  }
 },
 "nbformat": 4,
 "nbformat_minor": 2
}
