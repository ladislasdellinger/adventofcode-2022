{
 "cells": [
  {
   "cell_type": "markdown",
   "metadata": {},
   "source": [
    "# 🎄 Day 4 🎄"
   ]
  },
  {
   "cell_type": "markdown",
   "metadata": {},
   "source": [
    "## ❄️ EXO 1"
   ]
  },
  {
   "cell_type": "markdown",
   "metadata": {},
   "source": [
    "### 🎅🏼 Solver"
   ]
  },
  {
   "cell_type": "code",
   "execution_count": 143,
   "metadata": {},
   "outputs": [],
   "source": [
    "def resolve_1(filename: str):\n",
    "    with open(filename) as file:\n",
    "        overlaped = 0\n",
    "        lines = [list(map(lambda x: list(map( lambda x: int(x), x.split(\"-\"))), line.rstrip(\"\\n\").split(','))) for line in file.readlines()]\n",
    "        for line in lines:\n",
    "            if (line[0][0] >= line[1][0] and line[0][1] <= line[1][1]) or (line[1][0] >= line[0][0] and line[1][1] <= line[0][1]):\n",
    "                overlaped += 1\n",
    "    return overlaped"
   ]
  },
  {
   "cell_type": "markdown",
   "metadata": {},
   "source": [
    "### 🧪 Test sample"
   ]
  },
  {
   "cell_type": "code",
   "execution_count": 144,
   "metadata": {},
   "outputs": [
    {
     "name": "stdout",
     "output_type": "stream",
     "text": [
      "2\n"
     ]
    }
   ],
   "source": [
    "print(resolve_1(\"test.txt\"))"
   ]
  },
  {
   "cell_type": "markdown",
   "metadata": {},
   "source": [
    "### 🧠 Real sample"
   ]
  },
  {
   "cell_type": "code",
   "execution_count": 145,
   "metadata": {},
   "outputs": [
    {
     "name": "stdout",
     "output_type": "stream",
     "text": [
      "534\n"
     ]
    }
   ],
   "source": [
    "print(resolve_1(\"input.txt\"))"
   ]
  },
  {
   "cell_type": "markdown",
   "metadata": {},
   "source": [
    "## ❄️ EXO 2"
   ]
  },
  {
   "cell_type": "markdown",
   "metadata": {},
   "source": [
    "### 🧑🏼‍🎄 Solver"
   ]
  },
  {
   "cell_type": "code",
   "execution_count": 146,
   "metadata": {},
   "outputs": [],
   "source": [
    "def resolve_2(filename: str):\n",
    "    with open(filename) as file:\n",
    "        overlaped = 0\n",
    "        lines = [list(map(lambda x: list(map( lambda x: int(x), x.split(\"-\"))), line.rstrip(\"\\n\").split(','))) for line in file.readlines()]\n",
    "        for line in lines:\n",
    "            if set([i for i in range(line[0][0], line[0][1]+1)]) & set([i for i in range(line[1][0], line[1][1]+1)]):\n",
    "                overlaped += 1\n",
    "    return overlaped"
   ]
  },
  {
   "cell_type": "markdown",
   "metadata": {},
   "source": [
    "### 🧪 Test sample"
   ]
  },
  {
   "cell_type": "code",
   "execution_count": 147,
   "metadata": {},
   "outputs": [
    {
     "name": "stdout",
     "output_type": "stream",
     "text": [
      "4\n"
     ]
    }
   ],
   "source": [
    "print(resolve_2(\"test.txt\"))"
   ]
  },
  {
   "cell_type": "markdown",
   "metadata": {},
   "source": [
    "### 🧠 Real sample"
   ]
  },
  {
   "cell_type": "code",
   "execution_count": 148,
   "metadata": {},
   "outputs": [
    {
     "name": "stdout",
     "output_type": "stream",
     "text": [
      "841\n"
     ]
    }
   ],
   "source": [
    "print(resolve_2(\"input.txt\"))"
   ]
  }
 ],
 "metadata": {
  "kernelspec": {
   "display_name": "Python 3.9.12 ('base')",
   "language": "python",
   "name": "python3"
  },
  "language_info": {
   "codemirror_mode": {
    "name": "ipython",
    "version": 3
   },
   "file_extension": ".py",
   "mimetype": "text/x-python",
   "name": "python",
   "nbconvert_exporter": "python",
   "pygments_lexer": "ipython3",
   "version": "3.9.12"
  },
  "orig_nbformat": 4,
  "vscode": {
   "interpreter": {
    "hash": "e8854f263f48b47bf2c9d04a348d471a3453f7cd741e7aae1cf23fa53605996b"
   }
  }
 },
 "nbformat": 4,
 "nbformat_minor": 2
}
